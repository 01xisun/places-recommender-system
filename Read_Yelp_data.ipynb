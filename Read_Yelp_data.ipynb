{
 "cells": [
  {
   "cell_type": "code",
   "execution_count": 1,
   "metadata": {},
   "outputs": [],
   "source": [
    "import pandas as pd\n",
    "import numpy as np\n",
    "import datetime\n",
    "import time\n",
    "from bs4 import BeautifulSoup\n",
    "import re"
   ]
  },
  {
   "cell_type": "code",
   "execution_count": 11,
   "metadata": {},
   "outputs": [],
   "source": [
    "! python convert_json_to_csv.py Data/yelp_dataset/user.json"
   ]
  },
  {
   "cell_type": "code",
   "execution_count": 12,
   "metadata": {},
   "outputs": [],
   "source": [
    "user_data = pd.read_csv('Data/yelp_dataset/user.csv')"
   ]
  },
  {
   "cell_type": "code",
   "execution_count": 13,
   "metadata": {},
   "outputs": [
    {
     "data": {
      "text/plain": [
       "(1637138, 22)"
      ]
     },
     "execution_count": 13,
     "metadata": {},
     "output_type": "execute_result"
    }
   ],
   "source": [
    "user_data.shape"
   ]
  },
  {
   "cell_type": "code",
   "execution_count": 14,
   "metadata": {},
   "outputs": [
    {
     "data": {
      "text/html": [
       "<div>\n",
       "<style scoped>\n",
       "    .dataframe tbody tr th:only-of-type {\n",
       "        vertical-align: middle;\n",
       "    }\n",
       "\n",
       "    .dataframe tbody tr th {\n",
       "        vertical-align: top;\n",
       "    }\n",
       "\n",
       "    .dataframe thead th {\n",
       "        text-align: right;\n",
       "    }\n",
       "</style>\n",
       "<table border=\"1\" class=\"dataframe\">\n",
       "  <thead>\n",
       "    <tr style=\"text-align: right;\">\n",
       "      <th></th>\n",
       "      <th>funny</th>\n",
       "      <th>compliment_photos</th>\n",
       "      <th>user_id</th>\n",
       "      <th>compliment_profile</th>\n",
       "      <th>fans</th>\n",
       "      <th>cool</th>\n",
       "      <th>review_count</th>\n",
       "      <th>compliment_funny</th>\n",
       "      <th>compliment_note</th>\n",
       "      <th>elite</th>\n",
       "      <th>...</th>\n",
       "      <th>friends</th>\n",
       "      <th>compliment_list</th>\n",
       "      <th>compliment_plain</th>\n",
       "      <th>average_stars</th>\n",
       "      <th>useful</th>\n",
       "      <th>compliment_cute</th>\n",
       "      <th>compliment_cool</th>\n",
       "      <th>compliment_writer</th>\n",
       "      <th>name</th>\n",
       "      <th>compliment_more</th>\n",
       "    </tr>\n",
       "  </thead>\n",
       "  <tbody>\n",
       "    <tr>\n",
       "      <th>0</th>\n",
       "      <td>17</td>\n",
       "      <td>0</td>\n",
       "      <td>b'l6BmjZMeQD3rDxWUbiAiow'</td>\n",
       "      <td>0</td>\n",
       "      <td>5</td>\n",
       "      <td>25</td>\n",
       "      <td>95</td>\n",
       "      <td>1</td>\n",
       "      <td>1</td>\n",
       "      <td>b'2015,2016,2017'</td>\n",
       "      <td>...</td>\n",
       "      <td>b'c78V-rj8NQcQjOI8KP3UEA, alRMgPcngYSCJ5naFRBz...</td>\n",
       "      <td>0</td>\n",
       "      <td>1</td>\n",
       "      <td>4.03</td>\n",
       "      <td>84</td>\n",
       "      <td>0</td>\n",
       "      <td>1</td>\n",
       "      <td>2</td>\n",
       "      <td>b'Rashmi'</td>\n",
       "      <td>0</td>\n",
       "    </tr>\n",
       "    <tr>\n",
       "      <th>1</th>\n",
       "      <td>22</td>\n",
       "      <td>0</td>\n",
       "      <td>b'4XChL029mKr5hydo79Ljxg'</td>\n",
       "      <td>0</td>\n",
       "      <td>4</td>\n",
       "      <td>16</td>\n",
       "      <td>33</td>\n",
       "      <td>1</td>\n",
       "      <td>0</td>\n",
       "      <td>b''</td>\n",
       "      <td>...</td>\n",
       "      <td>b'kEBTgDvFX754S68FllfCaA, aB2DynOxNOJK9st2ZeGT...</td>\n",
       "      <td>0</td>\n",
       "      <td>0</td>\n",
       "      <td>3.63</td>\n",
       "      <td>48</td>\n",
       "      <td>0</td>\n",
       "      <td>1</td>\n",
       "      <td>0</td>\n",
       "      <td>b'Jenna'</td>\n",
       "      <td>0</td>\n",
       "    </tr>\n",
       "    <tr>\n",
       "      <th>2</th>\n",
       "      <td>8</td>\n",
       "      <td>0</td>\n",
       "      <td>b'bc8C_eETBWL0olvFSJJd0w'</td>\n",
       "      <td>0</td>\n",
       "      <td>0</td>\n",
       "      <td>10</td>\n",
       "      <td>16</td>\n",
       "      <td>0</td>\n",
       "      <td>1</td>\n",
       "      <td>b''</td>\n",
       "      <td>...</td>\n",
       "      <td>b'4N-HU_T32hLENLntsNKNBg, pSY2vwWLgWfGVAAiKQzM...</td>\n",
       "      <td>0</td>\n",
       "      <td>0</td>\n",
       "      <td>3.71</td>\n",
       "      <td>28</td>\n",
       "      <td>0</td>\n",
       "      <td>0</td>\n",
       "      <td>0</td>\n",
       "      <td>b'David'</td>\n",
       "      <td>0</td>\n",
       "    </tr>\n",
       "    <tr>\n",
       "      <th>3</th>\n",
       "      <td>4</td>\n",
       "      <td>0</td>\n",
       "      <td>b'dD0gZpBctWGdWo9WlGuhlA'</td>\n",
       "      <td>0</td>\n",
       "      <td>5</td>\n",
       "      <td>14</td>\n",
       "      <td>17</td>\n",
       "      <td>0</td>\n",
       "      <td>0</td>\n",
       "      <td>b''</td>\n",
       "      <td>...</td>\n",
       "      <td>b'RZ6wS38wnlXyj-OOdTzBxA, l5jxZh1KsgI8rMunm-GN...</td>\n",
       "      <td>0</td>\n",
       "      <td>2</td>\n",
       "      <td>4.85</td>\n",
       "      <td>30</td>\n",
       "      <td>0</td>\n",
       "      <td>0</td>\n",
       "      <td>1</td>\n",
       "      <td>b'Angela'</td>\n",
       "      <td>0</td>\n",
       "    </tr>\n",
       "    <tr>\n",
       "      <th>4</th>\n",
       "      <td>279</td>\n",
       "      <td>5</td>\n",
       "      <td>b'MM4RJAeH6yuaN8oZDSt0RA'</td>\n",
       "      <td>0</td>\n",
       "      <td>39</td>\n",
       "      <td>665</td>\n",
       "      <td>361</td>\n",
       "      <td>80</td>\n",
       "      <td>16</td>\n",
       "      <td>b'2015,2016,2017,2018'</td>\n",
       "      <td>...</td>\n",
       "      <td>b'mbwrZ-RS76V1HoJ0bF_Geg, g64lOV39xSLRZO0aQQ6D...</td>\n",
       "      <td>1</td>\n",
       "      <td>57</td>\n",
       "      <td>4.08</td>\n",
       "      <td>1114</td>\n",
       "      <td>0</td>\n",
       "      <td>80</td>\n",
       "      <td>25</td>\n",
       "      <td>b'Nancy'</td>\n",
       "      <td>1</td>\n",
       "    </tr>\n",
       "  </tbody>\n",
       "</table>\n",
       "<p>5 rows × 22 columns</p>\n",
       "</div>"
      ],
      "text/plain": [
       "   funny  compliment_photos                    user_id  compliment_profile  \\\n",
       "0     17                  0  b'l6BmjZMeQD3rDxWUbiAiow'                   0   \n",
       "1     22                  0  b'4XChL029mKr5hydo79Ljxg'                   0   \n",
       "2      8                  0  b'bc8C_eETBWL0olvFSJJd0w'                   0   \n",
       "3      4                  0  b'dD0gZpBctWGdWo9WlGuhlA'                   0   \n",
       "4    279                  5  b'MM4RJAeH6yuaN8oZDSt0RA'                   0   \n",
       "\n",
       "   fans  cool  review_count  compliment_funny  compliment_note  \\\n",
       "0     5    25            95                 1                1   \n",
       "1     4    16            33                 1                0   \n",
       "2     0    10            16                 0                1   \n",
       "3     5    14            17                 0                0   \n",
       "4    39   665           361                80               16   \n",
       "\n",
       "                    elite       ...         \\\n",
       "0       b'2015,2016,2017'       ...          \n",
       "1                     b''       ...          \n",
       "2                     b''       ...          \n",
       "3                     b''       ...          \n",
       "4  b'2015,2016,2017,2018'       ...          \n",
       "\n",
       "                                             friends compliment_list  \\\n",
       "0  b'c78V-rj8NQcQjOI8KP3UEA, alRMgPcngYSCJ5naFRBz...               0   \n",
       "1  b'kEBTgDvFX754S68FllfCaA, aB2DynOxNOJK9st2ZeGT...               0   \n",
       "2  b'4N-HU_T32hLENLntsNKNBg, pSY2vwWLgWfGVAAiKQzM...               0   \n",
       "3  b'RZ6wS38wnlXyj-OOdTzBxA, l5jxZh1KsgI8rMunm-GN...               0   \n",
       "4  b'mbwrZ-RS76V1HoJ0bF_Geg, g64lOV39xSLRZO0aQQ6D...               1   \n",
       "\n",
       "  compliment_plain  average_stars  useful  compliment_cute  compliment_cool  \\\n",
       "0                1           4.03      84                0                1   \n",
       "1                0           3.63      48                0                1   \n",
       "2                0           3.71      28                0                0   \n",
       "3                2           4.85      30                0                0   \n",
       "4               57           4.08    1114                0               80   \n",
       "\n",
       "   compliment_writer       name  compliment_more  \n",
       "0                  2  b'Rashmi'                0  \n",
       "1                  0   b'Jenna'                0  \n",
       "2                  0   b'David'                0  \n",
       "3                  1  b'Angela'                0  \n",
       "4                 25   b'Nancy'                1  \n",
       "\n",
       "[5 rows x 22 columns]"
      ]
     },
     "execution_count": 14,
     "metadata": {},
     "output_type": "execute_result"
    }
   ],
   "source": [
    "user_data.head()"
   ]
  },
  {
   "cell_type": "code",
   "execution_count": 15,
   "metadata": {},
   "outputs": [
    {
     "data": {
      "text/plain": [
       "Index(['funny', 'compliment_photos', 'user_id', 'compliment_profile', 'fans',\n",
       "       'cool', 'review_count', 'compliment_funny', 'compliment_note', 'elite',\n",
       "       'compliment_hot', 'yelping_since', 'friends', 'compliment_list',\n",
       "       'compliment_plain', 'average_stars', 'useful', 'compliment_cute',\n",
       "       'compliment_cool', 'compliment_writer', 'name', 'compliment_more'],\n",
       "      dtype='object')"
      ]
     },
     "execution_count": 15,
     "metadata": {},
     "output_type": "execute_result"
    }
   ],
   "source": [
    "user_data.columns\n"
   ]
  },
  {
   "cell_type": "code",
   "execution_count": 17,
   "metadata": {},
   "outputs": [
    {
     "data": {
      "text/plain": [
       "1      b'Jenna'\n",
       "2      b'David'\n",
       "3     b'Angela'\n",
       "4      b'Nancy'\n",
       "5    b'Marilyn'\n",
       "6      b'Keane'\n",
       "7      b'Andre'\n",
       "8      b'Tanya'\n",
       "9      b'Trace'\n",
       "Name: name, dtype: object"
      ]
     },
     "execution_count": 17,
     "metadata": {},
     "output_type": "execute_result"
    }
   ],
   "source": [
    "user_data.name[1:10]"
   ]
  },
  {
   "cell_type": "code",
   "execution_count": 22,
   "metadata": {},
   "outputs": [
    {
     "name": "stdout",
     "output_type": "stream",
     "text": [
      "Number of unique name:  124917\n",
      "Number of unique user_id:  1637138\n"
     ]
    }
   ],
   "source": [
    "print (\"Number of unique name: \",len(set(user_data.name)))\n",
    "print (\"Number of unique user_id: \", user_data.shape[0])"
   ]
  },
  {
   "cell_type": "code",
   "execution_count": null,
   "metadata": {},
   "outputs": [],
   "source": []
  }
 ],
 "metadata": {
  "kernelspec": {
   "display_name": "Python 3",
   "language": "python",
   "name": "python3"
  },
  "language_info": {
   "codemirror_mode": {
    "name": "ipython",
    "version": 3
   },
   "file_extension": ".py",
   "mimetype": "text/x-python",
   "name": "python",
   "nbconvert_exporter": "python",
   "pygments_lexer": "ipython3",
   "version": "3.6.5"
  }
 },
 "nbformat": 4,
 "nbformat_minor": 2
}
