{
 "cells": [
  {
   "cell_type": "code",
   "execution_count": 24,
   "metadata": {},
   "outputs": [],
   "source": [
    "import pandas as pd\n",
    "import numpy as np"
   ]
  },
  {
   "cell_type": "code",
   "execution_count": 25,
   "metadata": {},
   "outputs": [],
   "source": [
    "business = pd.read_csv('businessV2.csv')"
   ]
  },
  {
   "cell_type": "code",
   "execution_count": 26,
   "metadata": {},
   "outputs": [
    {
     "data": {
      "text/html": [
       "<div>\n",
       "<style scoped>\n",
       "    .dataframe tbody tr th:only-of-type {\n",
       "        vertical-align: middle;\n",
       "    }\n",
       "\n",
       "    .dataframe tbody tr th {\n",
       "        vertical-align: top;\n",
       "    }\n",
       "\n",
       "    .dataframe thead th {\n",
       "        text-align: right;\n",
       "    }\n",
       "</style>\n",
       "<table border=\"1\" class=\"dataframe\">\n",
       "  <thead>\n",
       "    <tr style=\"text-align: right;\">\n",
       "      <th></th>\n",
       "      <th>Unnamed: 0</th>\n",
       "      <th>business_id</th>\n",
       "      <th>name</th>\n",
       "      <th>address</th>\n",
       "      <th>city</th>\n",
       "      <th>state</th>\n",
       "      <th>postal_code</th>\n",
       "      <th>latitude</th>\n",
       "      <th>longitude</th>\n",
       "      <th>stars</th>\n",
       "      <th>...</th>\n",
       "      <th>street.vendors</th>\n",
       "      <th>fish...chips</th>\n",
       "      <th>breweries</th>\n",
       "      <th>cheesesteaks</th>\n",
       "      <th>southern</th>\n",
       "      <th>gastropubs</th>\n",
       "      <th>caribbean</th>\n",
       "      <th>cajun.creole</th>\n",
       "      <th>american</th>\n",
       "      <th>sum</th>\n",
       "    </tr>\n",
       "  </thead>\n",
       "  <tbody>\n",
       "    <tr>\n",
       "      <th>0</th>\n",
       "      <td>1</td>\n",
       "      <td>gnKjwL_1w79qoiV3IC_xQQ</td>\n",
       "      <td>Musashi Japanese Restaurant</td>\n",
       "      <td>10110 Johnston Rd, Ste 15</td>\n",
       "      <td>charlotte</td>\n",
       "      <td>NC</td>\n",
       "      <td>28210.0</td>\n",
       "      <td>35.092564</td>\n",
       "      <td>-80.859132</td>\n",
       "      <td>4.0</td>\n",
       "      <td>...</td>\n",
       "      <td>0</td>\n",
       "      <td>0</td>\n",
       "      <td>0</td>\n",
       "      <td>0</td>\n",
       "      <td>0</td>\n",
       "      <td>0</td>\n",
       "      <td>0</td>\n",
       "      <td>0</td>\n",
       "      <td>0</td>\n",
       "      <td>2</td>\n",
       "    </tr>\n",
       "    <tr>\n",
       "      <th>1</th>\n",
       "      <td>2</td>\n",
       "      <td>1Dfx3zM-rW4n-31KeC8sJg</td>\n",
       "      <td>Taco Bell</td>\n",
       "      <td>2450 E Indian School Rd</td>\n",
       "      <td>phoenix</td>\n",
       "      <td>AZ</td>\n",
       "      <td>85016.0</td>\n",
       "      <td>33.495194</td>\n",
       "      <td>-112.028588</td>\n",
       "      <td>3.0</td>\n",
       "      <td>...</td>\n",
       "      <td>0</td>\n",
       "      <td>0</td>\n",
       "      <td>0</td>\n",
       "      <td>0</td>\n",
       "      <td>0</td>\n",
       "      <td>0</td>\n",
       "      <td>0</td>\n",
       "      <td>0</td>\n",
       "      <td>0</td>\n",
       "      <td>5</td>\n",
       "    </tr>\n",
       "    <tr>\n",
       "      <th>2</th>\n",
       "      <td>3</td>\n",
       "      <td>fweCYi8FmbJXHCqLnwuk8w</td>\n",
       "      <td>Marco's Pizza</td>\n",
       "      <td>5981 Andrews Rd</td>\n",
       "      <td>mentor on the lake</td>\n",
       "      <td>OH</td>\n",
       "      <td>44060.0</td>\n",
       "      <td>41.708520</td>\n",
       "      <td>-81.359556</td>\n",
       "      <td>4.0</td>\n",
       "      <td>...</td>\n",
       "      <td>0</td>\n",
       "      <td>0</td>\n",
       "      <td>0</td>\n",
       "      <td>0</td>\n",
       "      <td>0</td>\n",
       "      <td>0</td>\n",
       "      <td>0</td>\n",
       "      <td>0</td>\n",
       "      <td>0</td>\n",
       "      <td>3</td>\n",
       "    </tr>\n",
       "    <tr>\n",
       "      <th>3</th>\n",
       "      <td>4</td>\n",
       "      <td>1RHY4K3BD22FK7Cfftn8Mg</td>\n",
       "      <td>Marathon Diner</td>\n",
       "      <td>Center Core - Food Court, Fl 3, Pittsburgh Int...</td>\n",
       "      <td>pittsburgh</td>\n",
       "      <td>PA</td>\n",
       "      <td>15231.0</td>\n",
       "      <td>40.496177</td>\n",
       "      <td>-80.246011</td>\n",
       "      <td>4.0</td>\n",
       "      <td>...</td>\n",
       "      <td>0</td>\n",
       "      <td>0</td>\n",
       "      <td>0</td>\n",
       "      <td>0</td>\n",
       "      <td>0</td>\n",
       "      <td>0</td>\n",
       "      <td>0</td>\n",
       "      <td>0</td>\n",
       "      <td>0</td>\n",
       "      <td>4</td>\n",
       "    </tr>\n",
       "    <tr>\n",
       "      <th>4</th>\n",
       "      <td>5</td>\n",
       "      <td>tstimHoMcYbkSC4eBA1wEg</td>\n",
       "      <td>Maria's Mexican Restaurant &amp; Bakery</td>\n",
       "      <td>6055 E Lake Mead Blvd</td>\n",
       "      <td>las vegas</td>\n",
       "      <td>NV</td>\n",
       "      <td>89156.0</td>\n",
       "      <td>36.195615</td>\n",
       "      <td>-115.040529</td>\n",
       "      <td>4.5</td>\n",
       "      <td>...</td>\n",
       "      <td>0</td>\n",
       "      <td>0</td>\n",
       "      <td>0</td>\n",
       "      <td>0</td>\n",
       "      <td>0</td>\n",
       "      <td>0</td>\n",
       "      <td>0</td>\n",
       "      <td>0</td>\n",
       "      <td>0</td>\n",
       "      <td>2</td>\n",
       "    </tr>\n",
       "  </tbody>\n",
       "</table>\n",
       "<p>5 rows × 91 columns</p>\n",
       "</div>"
      ],
      "text/plain": [
       "   Unnamed: 0             business_id                                 name  \\\n",
       "0           1  gnKjwL_1w79qoiV3IC_xQQ          Musashi Japanese Restaurant   \n",
       "1           2  1Dfx3zM-rW4n-31KeC8sJg                            Taco Bell   \n",
       "2           3  fweCYi8FmbJXHCqLnwuk8w                        Marco's Pizza   \n",
       "3           4  1RHY4K3BD22FK7Cfftn8Mg                       Marathon Diner   \n",
       "4           5  tstimHoMcYbkSC4eBA1wEg  Maria's Mexican Restaurant & Bakery   \n",
       "\n",
       "                                             address                city  \\\n",
       "0                          10110 Johnston Rd, Ste 15           charlotte   \n",
       "1                            2450 E Indian School Rd             phoenix   \n",
       "2                                    5981 Andrews Rd  mentor on the lake   \n",
       "3  Center Core - Food Court, Fl 3, Pittsburgh Int...          pittsburgh   \n",
       "4                              6055 E Lake Mead Blvd           las vegas   \n",
       "\n",
       "  state  postal_code   latitude   longitude  stars  ...  street.vendors  \\\n",
       "0    NC      28210.0  35.092564  -80.859132    4.0  ...               0   \n",
       "1    AZ      85016.0  33.495194 -112.028588    3.0  ...               0   \n",
       "2    OH      44060.0  41.708520  -81.359556    4.0  ...               0   \n",
       "3    PA      15231.0  40.496177  -80.246011    4.0  ...               0   \n",
       "4    NV      89156.0  36.195615 -115.040529    4.5  ...               0   \n",
       "\n",
       "   fish...chips  breweries  cheesesteaks  southern  gastropubs  caribbean  \\\n",
       "0             0          0             0         0           0          0   \n",
       "1             0          0             0         0           0          0   \n",
       "2             0          0             0         0           0          0   \n",
       "3             0          0             0         0           0          0   \n",
       "4             0          0             0         0           0          0   \n",
       "\n",
       "   cajun.creole  american  sum  \n",
       "0             0         0    2  \n",
       "1             0         0    5  \n",
       "2             0         0    3  \n",
       "3             0         0    4  \n",
       "4             0         0    2  \n",
       "\n",
       "[5 rows x 91 columns]"
      ]
     },
     "execution_count": 26,
     "metadata": {},
     "output_type": "execute_result"
    }
   ],
   "source": [
    "business.head()"
   ]
  },
  {
   "cell_type": "code",
   "execution_count": 27,
   "metadata": {},
   "outputs": [
    {
     "data": {
      "text/plain": [
       "Index(['Unnamed: 0', 'business_id', 'name', 'address', 'city', 'state',\n",
       "       'postal_code', 'latitude', 'longitude', 'stars', 'review_count',\n",
       "       'sushi.bars', 'japanese', 'breakfast...brunch', 'mexican', 'tacos',\n",
       "       'tex.mex', 'fast.food', 'italian', 'pizza', 'chicken.wings',\n",
       "       'sandwiches', 'salad', 'burgers', 'comfort.food', 'bars', 'vegan',\n",
       "       'chinese', 'pubs', 'sports.bars', 'cafes', 'thai', 'ethnic.food',\n",
       "       'asian.fusion', 'specialty.food', 'korean', 'caterers', 'hot.dogs',\n",
       "       'vegetarian', 'seafood', 'french', 'buffets', 'beer', 'wine...spirits',\n",
       "       'dive.bars', 'barbeque', 'delis', 'desserts', 'bakeries',\n",
       "       'coffee...tea', 'mediterranean', 'middle.eastern', 'wraps', 'hawaiian',\n",
       "       'poke', 'food.delivery.services', 'diners', 'soul.food',\n",
       "       'juice.bars...smoothies', 'vietnamese', 'latin.american',\n",
       "       'local.flavor', 'wine.bars', 'ice.cream...frozen.yogurt',\n",
       "       'convenience.stores', 'food.stands', 'indian', 'meat.shops',\n",
       "       'cocktail.bars', 'steakhouses', 'noodles', 'tapas.small.plates',\n",
       "       'bagels', 'beer.bar', 'donuts', 'food.trucks', 'greek', 'karaoke',\n",
       "       'soup', 'gluten.free', 'chicken.shop', 'street.vendors', 'fish...chips',\n",
       "       'breweries', 'cheesesteaks', 'southern', 'gastropubs', 'caribbean',\n",
       "       'cajun.creole', 'american', 'sum'],\n",
       "      dtype='object')"
      ]
     },
     "execution_count": 27,
     "metadata": {},
     "output_type": "execute_result"
    }
   ],
   "source": [
    "business.columns"
   ]
  },
  {
   "cell_type": "code",
   "execution_count": 28,
   "metadata": {},
   "outputs": [],
   "source": [
    "business =business.drop(['Unnamed: 0'], axis = 1)"
   ]
  },
  {
   "cell_type": "code",
   "execution_count": 55,
   "metadata": {},
   "outputs": [],
   "source": [
    "list_cat = business.columns[10:89]\n",
    "list_cat = [x.lower() for x in list_cat]"
   ]
  },
  {
   "cell_type": "code",
   "execution_count": null,
   "metadata": {},
   "outputs": [],
   "source": [
    "# Function which returns categories I guess"
   ]
  },
  {
   "cell_type": "code",
   "execution_count": 70,
   "metadata": {},
   "outputs": [],
   "source": [
    "# X_vals should be a list for whatever\n",
    "def catlist(X_vals):\n",
    "    X_vals = [str(x).lower().strip() for x in X_vals]\n",
    "    included_ft= set(['japanese','lala']) & set(list_cat)\n",
    "    \n",
    "    if len(X_vals) == 0:\n",
    "        print('Please enter values')\n",
    "    else:\n",
    "        if( len(included_ft) == 0):\n",
    "            print('Please select from the list')"
   ]
  },
  {
   "cell_type": "code",
   "execution_count": 73,
   "metadata": {},
   "outputs": [
    {
     "data": {
      "text/plain": [
       "['japanese']"
      ]
     },
     "execution_count": 73,
     "metadata": {},
     "output_type": "execute_result"
    }
   ],
   "source": [
    "business_ids = business['business_id']\n",
    "list_cat\n",
    "included_ft= list(set(['japanese','lala']) & set(list_cat))\n"
   ]
  },
  {
   "cell_type": "code",
   "execution_count": null,
   "metadata": {},
   "outputs": [],
   "source": []
  }
 ],
 "metadata": {
  "kernelspec": {
   "display_name": "Python 3",
   "language": "python",
   "name": "python3"
  },
  "language_info": {
   "codemirror_mode": {
    "name": "ipython",
    "version": 3
   },
   "file_extension": ".py",
   "mimetype": "text/x-python",
   "name": "python",
   "nbconvert_exporter": "python",
   "pygments_lexer": "ipython3",
   "version": "3.7.3"
  }
 },
 "nbformat": 4,
 "nbformat_minor": 2
}
